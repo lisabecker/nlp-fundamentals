{
  "nbformat": 4,
  "nbformat_minor": 0,
  "metadata": {
    "colab": {
      "provenance": [],
      "include_colab_link": true
    },
    "kernelspec": {
      "name": "python3",
      "display_name": "Python 3"
    },
    "language_info": {
      "name": "python"
    },
    "widgets": {
      "application/vnd.jupyter.widget-state+json": {
        "1cdf837e0e1d4ce4a4ba63e3f97ba134": {
          "model_module": "@jupyter-widgets/controls",
          "model_name": "HBoxModel",
          "model_module_version": "1.5.0",
          "state": {
            "_dom_classes": [],
            "_model_module": "@jupyter-widgets/controls",
            "_model_module_version": "1.5.0",
            "_model_name": "HBoxModel",
            "_view_count": null,
            "_view_module": "@jupyter-widgets/controls",
            "_view_module_version": "1.5.0",
            "_view_name": "HBoxView",
            "box_style": "",
            "children": [
              "IPY_MODEL_9daef12f5ed64ad7860fd78ca3782b54",
              "IPY_MODEL_59234e9d33eb44db9e2ef2fbabd69518",
              "IPY_MODEL_deecee5070fa40daa2e3e927213cbfc8"
            ],
            "layout": "IPY_MODEL_3e42a5441b034550a3bbe0412818f2bc"
          }
        },
        "9daef12f5ed64ad7860fd78ca3782b54": {
          "model_module": "@jupyter-widgets/controls",
          "model_name": "HTMLModel",
          "model_module_version": "1.5.0",
          "state": {
            "_dom_classes": [],
            "_model_module": "@jupyter-widgets/controls",
            "_model_module_version": "1.5.0",
            "_model_name": "HTMLModel",
            "_view_count": null,
            "_view_module": "@jupyter-widgets/controls",
            "_view_module_version": "1.5.0",
            "_view_name": "HTMLView",
            "description": "",
            "description_tooltip": null,
            "layout": "IPY_MODEL_864965d1f13145858b680ada7546cd17",
            "placeholder": "​",
            "style": "IPY_MODEL_20e3fc430c8c4d1a93ffca3e67c42d5b",
            "value": "Map: 100%"
          }
        },
        "59234e9d33eb44db9e2ef2fbabd69518": {
          "model_module": "@jupyter-widgets/controls",
          "model_name": "FloatProgressModel",
          "model_module_version": "1.5.0",
          "state": {
            "_dom_classes": [],
            "_model_module": "@jupyter-widgets/controls",
            "_model_module_version": "1.5.0",
            "_model_name": "FloatProgressModel",
            "_view_count": null,
            "_view_module": "@jupyter-widgets/controls",
            "_view_module_version": "1.5.0",
            "_view_name": "ProgressView",
            "bar_style": "success",
            "description": "",
            "description_tooltip": null,
            "layout": "IPY_MODEL_7d137f61b1ed471498796c15ca9799a3",
            "max": 25000,
            "min": 0,
            "orientation": "horizontal",
            "style": "IPY_MODEL_fb9955e384144798a8f5de04304e9d9b",
            "value": 25000
          }
        },
        "deecee5070fa40daa2e3e927213cbfc8": {
          "model_module": "@jupyter-widgets/controls",
          "model_name": "HTMLModel",
          "model_module_version": "1.5.0",
          "state": {
            "_dom_classes": [],
            "_model_module": "@jupyter-widgets/controls",
            "_model_module_version": "1.5.0",
            "_model_name": "HTMLModel",
            "_view_count": null,
            "_view_module": "@jupyter-widgets/controls",
            "_view_module_version": "1.5.0",
            "_view_name": "HTMLView",
            "description": "",
            "description_tooltip": null,
            "layout": "IPY_MODEL_87d15f558f3c4b04b5fd0f9fb57ce181",
            "placeholder": "​",
            "style": "IPY_MODEL_ce9e69ff408a42b59aef6cf19724eb02",
            "value": " 25000/25000 [00:36&lt;00:00, 1021.12 examples/s]"
          }
        },
        "3e42a5441b034550a3bbe0412818f2bc": {
          "model_module": "@jupyter-widgets/base",
          "model_name": "LayoutModel",
          "model_module_version": "1.2.0",
          "state": {
            "_model_module": "@jupyter-widgets/base",
            "_model_module_version": "1.2.0",
            "_model_name": "LayoutModel",
            "_view_count": null,
            "_view_module": "@jupyter-widgets/base",
            "_view_module_version": "1.2.0",
            "_view_name": "LayoutView",
            "align_content": null,
            "align_items": null,
            "align_self": null,
            "border": null,
            "bottom": null,
            "display": null,
            "flex": null,
            "flex_flow": null,
            "grid_area": null,
            "grid_auto_columns": null,
            "grid_auto_flow": null,
            "grid_auto_rows": null,
            "grid_column": null,
            "grid_gap": null,
            "grid_row": null,
            "grid_template_areas": null,
            "grid_template_columns": null,
            "grid_template_rows": null,
            "height": null,
            "justify_content": null,
            "justify_items": null,
            "left": null,
            "margin": null,
            "max_height": null,
            "max_width": null,
            "min_height": null,
            "min_width": null,
            "object_fit": null,
            "object_position": null,
            "order": null,
            "overflow": null,
            "overflow_x": null,
            "overflow_y": null,
            "padding": null,
            "right": null,
            "top": null,
            "visibility": null,
            "width": null
          }
        },
        "864965d1f13145858b680ada7546cd17": {
          "model_module": "@jupyter-widgets/base",
          "model_name": "LayoutModel",
          "model_module_version": "1.2.0",
          "state": {
            "_model_module": "@jupyter-widgets/base",
            "_model_module_version": "1.2.0",
            "_model_name": "LayoutModel",
            "_view_count": null,
            "_view_module": "@jupyter-widgets/base",
            "_view_module_version": "1.2.0",
            "_view_name": "LayoutView",
            "align_content": null,
            "align_items": null,
            "align_self": null,
            "border": null,
            "bottom": null,
            "display": null,
            "flex": null,
            "flex_flow": null,
            "grid_area": null,
            "grid_auto_columns": null,
            "grid_auto_flow": null,
            "grid_auto_rows": null,
            "grid_column": null,
            "grid_gap": null,
            "grid_row": null,
            "grid_template_areas": null,
            "grid_template_columns": null,
            "grid_template_rows": null,
            "height": null,
            "justify_content": null,
            "justify_items": null,
            "left": null,
            "margin": null,
            "max_height": null,
            "max_width": null,
            "min_height": null,
            "min_width": null,
            "object_fit": null,
            "object_position": null,
            "order": null,
            "overflow": null,
            "overflow_x": null,
            "overflow_y": null,
            "padding": null,
            "right": null,
            "top": null,
            "visibility": null,
            "width": null
          }
        },
        "20e3fc430c8c4d1a93ffca3e67c42d5b": {
          "model_module": "@jupyter-widgets/controls",
          "model_name": "DescriptionStyleModel",
          "model_module_version": "1.5.0",
          "state": {
            "_model_module": "@jupyter-widgets/controls",
            "_model_module_version": "1.5.0",
            "_model_name": "DescriptionStyleModel",
            "_view_count": null,
            "_view_module": "@jupyter-widgets/base",
            "_view_module_version": "1.2.0",
            "_view_name": "StyleView",
            "description_width": ""
          }
        },
        "7d137f61b1ed471498796c15ca9799a3": {
          "model_module": "@jupyter-widgets/base",
          "model_name": "LayoutModel",
          "model_module_version": "1.2.0",
          "state": {
            "_model_module": "@jupyter-widgets/base",
            "_model_module_version": "1.2.0",
            "_model_name": "LayoutModel",
            "_view_count": null,
            "_view_module": "@jupyter-widgets/base",
            "_view_module_version": "1.2.0",
            "_view_name": "LayoutView",
            "align_content": null,
            "align_items": null,
            "align_self": null,
            "border": null,
            "bottom": null,
            "display": null,
            "flex": null,
            "flex_flow": null,
            "grid_area": null,
            "grid_auto_columns": null,
            "grid_auto_flow": null,
            "grid_auto_rows": null,
            "grid_column": null,
            "grid_gap": null,
            "grid_row": null,
            "grid_template_areas": null,
            "grid_template_columns": null,
            "grid_template_rows": null,
            "height": null,
            "justify_content": null,
            "justify_items": null,
            "left": null,
            "margin": null,
            "max_height": null,
            "max_width": null,
            "min_height": null,
            "min_width": null,
            "object_fit": null,
            "object_position": null,
            "order": null,
            "overflow": null,
            "overflow_x": null,
            "overflow_y": null,
            "padding": null,
            "right": null,
            "top": null,
            "visibility": null,
            "width": null
          }
        },
        "fb9955e384144798a8f5de04304e9d9b": {
          "model_module": "@jupyter-widgets/controls",
          "model_name": "ProgressStyleModel",
          "model_module_version": "1.5.0",
          "state": {
            "_model_module": "@jupyter-widgets/controls",
            "_model_module_version": "1.5.0",
            "_model_name": "ProgressStyleModel",
            "_view_count": null,
            "_view_module": "@jupyter-widgets/base",
            "_view_module_version": "1.2.0",
            "_view_name": "StyleView",
            "bar_color": null,
            "description_width": ""
          }
        },
        "87d15f558f3c4b04b5fd0f9fb57ce181": {
          "model_module": "@jupyter-widgets/base",
          "model_name": "LayoutModel",
          "model_module_version": "1.2.0",
          "state": {
            "_model_module": "@jupyter-widgets/base",
            "_model_module_version": "1.2.0",
            "_model_name": "LayoutModel",
            "_view_count": null,
            "_view_module": "@jupyter-widgets/base",
            "_view_module_version": "1.2.0",
            "_view_name": "LayoutView",
            "align_content": null,
            "align_items": null,
            "align_self": null,
            "border": null,
            "bottom": null,
            "display": null,
            "flex": null,
            "flex_flow": null,
            "grid_area": null,
            "grid_auto_columns": null,
            "grid_auto_flow": null,
            "grid_auto_rows": null,
            "grid_column": null,
            "grid_gap": null,
            "grid_row": null,
            "grid_template_areas": null,
            "grid_template_columns": null,
            "grid_template_rows": null,
            "height": null,
            "justify_content": null,
            "justify_items": null,
            "left": null,
            "margin": null,
            "max_height": null,
            "max_width": null,
            "min_height": null,
            "min_width": null,
            "object_fit": null,
            "object_position": null,
            "order": null,
            "overflow": null,
            "overflow_x": null,
            "overflow_y": null,
            "padding": null,
            "right": null,
            "top": null,
            "visibility": null,
            "width": null
          }
        },
        "ce9e69ff408a42b59aef6cf19724eb02": {
          "model_module": "@jupyter-widgets/controls",
          "model_name": "DescriptionStyleModel",
          "model_module_version": "1.5.0",
          "state": {
            "_model_module": "@jupyter-widgets/controls",
            "_model_module_version": "1.5.0",
            "_model_name": "DescriptionStyleModel",
            "_view_count": null,
            "_view_module": "@jupyter-widgets/base",
            "_view_module_version": "1.2.0",
            "_view_name": "StyleView",
            "description_width": ""
          }
        },
        "f27166d09d2147479a167bb7099ef060": {
          "model_module": "@jupyter-widgets/controls",
          "model_name": "HBoxModel",
          "model_module_version": "1.5.0",
          "state": {
            "_dom_classes": [],
            "_model_module": "@jupyter-widgets/controls",
            "_model_module_version": "1.5.0",
            "_model_name": "HBoxModel",
            "_view_count": null,
            "_view_module": "@jupyter-widgets/controls",
            "_view_module_version": "1.5.0",
            "_view_name": "HBoxView",
            "box_style": "",
            "children": [
              "IPY_MODEL_1ba54748805842b4a1c44d8c7628fa81",
              "IPY_MODEL_45d5ed5b387746158145aa49f7cae5b0",
              "IPY_MODEL_c84ce4359f704701b74e2a37887acb4e"
            ],
            "layout": "IPY_MODEL_f82878df9a154cc3b51869448983da45"
          }
        },
        "1ba54748805842b4a1c44d8c7628fa81": {
          "model_module": "@jupyter-widgets/controls",
          "model_name": "HTMLModel",
          "model_module_version": "1.5.0",
          "state": {
            "_dom_classes": [],
            "_model_module": "@jupyter-widgets/controls",
            "_model_module_version": "1.5.0",
            "_model_name": "HTMLModel",
            "_view_count": null,
            "_view_module": "@jupyter-widgets/controls",
            "_view_module_version": "1.5.0",
            "_view_name": "HTMLView",
            "description": "",
            "description_tooltip": null,
            "layout": "IPY_MODEL_9f271d9ef7a448e9803a69ccb32dc05c",
            "placeholder": "​",
            "style": "IPY_MODEL_40bfe81d9e204ae8a0cbab222eada577",
            "value": "100%"
          }
        },
        "45d5ed5b387746158145aa49f7cae5b0": {
          "model_module": "@jupyter-widgets/controls",
          "model_name": "FloatProgressModel",
          "model_module_version": "1.5.0",
          "state": {
            "_dom_classes": [],
            "_model_module": "@jupyter-widgets/controls",
            "_model_module_version": "1.5.0",
            "_model_name": "FloatProgressModel",
            "_view_count": null,
            "_view_module": "@jupyter-widgets/controls",
            "_view_module_version": "1.5.0",
            "_view_name": "ProgressView",
            "bar_style": "",
            "description": "",
            "description_tooltip": null,
            "layout": "IPY_MODEL_950fcdd32b414c5cb43240d2e299c437",
            "max": 1875,
            "min": 0,
            "orientation": "horizontal",
            "style": "IPY_MODEL_032306a2411f4a4a90f424758ab47fda",
            "value": 1875
          }
        },
        "c84ce4359f704701b74e2a37887acb4e": {
          "model_module": "@jupyter-widgets/controls",
          "model_name": "HTMLModel",
          "model_module_version": "1.5.0",
          "state": {
            "_dom_classes": [],
            "_model_module": "@jupyter-widgets/controls",
            "_model_module_version": "1.5.0",
            "_model_name": "HTMLModel",
            "_view_count": null,
            "_view_module": "@jupyter-widgets/controls",
            "_view_module_version": "1.5.0",
            "_view_name": "HTMLView",
            "description": "",
            "description_tooltip": null,
            "layout": "IPY_MODEL_be49486e5dc345ad847b0fe4d8f64923",
            "placeholder": "​",
            "style": "IPY_MODEL_eed664bc4a824889aec181337d0fb51b",
            "value": " 1875/1875 [23:04&lt;00:00,  1.36it/s]"
          }
        },
        "f82878df9a154cc3b51869448983da45": {
          "model_module": "@jupyter-widgets/base",
          "model_name": "LayoutModel",
          "model_module_version": "1.2.0",
          "state": {
            "_model_module": "@jupyter-widgets/base",
            "_model_module_version": "1.2.0",
            "_model_name": "LayoutModel",
            "_view_count": null,
            "_view_module": "@jupyter-widgets/base",
            "_view_module_version": "1.2.0",
            "_view_name": "LayoutView",
            "align_content": null,
            "align_items": null,
            "align_self": null,
            "border": null,
            "bottom": null,
            "display": null,
            "flex": null,
            "flex_flow": null,
            "grid_area": null,
            "grid_auto_columns": null,
            "grid_auto_flow": null,
            "grid_auto_rows": null,
            "grid_column": null,
            "grid_gap": null,
            "grid_row": null,
            "grid_template_areas": null,
            "grid_template_columns": null,
            "grid_template_rows": null,
            "height": null,
            "justify_content": null,
            "justify_items": null,
            "left": null,
            "margin": null,
            "max_height": null,
            "max_width": null,
            "min_height": null,
            "min_width": null,
            "object_fit": null,
            "object_position": null,
            "order": null,
            "overflow": null,
            "overflow_x": null,
            "overflow_y": null,
            "padding": null,
            "right": null,
            "top": null,
            "visibility": null,
            "width": null
          }
        },
        "9f271d9ef7a448e9803a69ccb32dc05c": {
          "model_module": "@jupyter-widgets/base",
          "model_name": "LayoutModel",
          "model_module_version": "1.2.0",
          "state": {
            "_model_module": "@jupyter-widgets/base",
            "_model_module_version": "1.2.0",
            "_model_name": "LayoutModel",
            "_view_count": null,
            "_view_module": "@jupyter-widgets/base",
            "_view_module_version": "1.2.0",
            "_view_name": "LayoutView",
            "align_content": null,
            "align_items": null,
            "align_self": null,
            "border": null,
            "bottom": null,
            "display": null,
            "flex": null,
            "flex_flow": null,
            "grid_area": null,
            "grid_auto_columns": null,
            "grid_auto_flow": null,
            "grid_auto_rows": null,
            "grid_column": null,
            "grid_gap": null,
            "grid_row": null,
            "grid_template_areas": null,
            "grid_template_columns": null,
            "grid_template_rows": null,
            "height": null,
            "justify_content": null,
            "justify_items": null,
            "left": null,
            "margin": null,
            "max_height": null,
            "max_width": null,
            "min_height": null,
            "min_width": null,
            "object_fit": null,
            "object_position": null,
            "order": null,
            "overflow": null,
            "overflow_x": null,
            "overflow_y": null,
            "padding": null,
            "right": null,
            "top": null,
            "visibility": null,
            "width": null
          }
        },
        "40bfe81d9e204ae8a0cbab222eada577": {
          "model_module": "@jupyter-widgets/controls",
          "model_name": "DescriptionStyleModel",
          "model_module_version": "1.5.0",
          "state": {
            "_model_module": "@jupyter-widgets/controls",
            "_model_module_version": "1.5.0",
            "_model_name": "DescriptionStyleModel",
            "_view_count": null,
            "_view_module": "@jupyter-widgets/base",
            "_view_module_version": "1.2.0",
            "_view_name": "StyleView",
            "description_width": ""
          }
        },
        "950fcdd32b414c5cb43240d2e299c437": {
          "model_module": "@jupyter-widgets/base",
          "model_name": "LayoutModel",
          "model_module_version": "1.2.0",
          "state": {
            "_model_module": "@jupyter-widgets/base",
            "_model_module_version": "1.2.0",
            "_model_name": "LayoutModel",
            "_view_count": null,
            "_view_module": "@jupyter-widgets/base",
            "_view_module_version": "1.2.0",
            "_view_name": "LayoutView",
            "align_content": null,
            "align_items": null,
            "align_self": null,
            "border": null,
            "bottom": null,
            "display": null,
            "flex": null,
            "flex_flow": null,
            "grid_area": null,
            "grid_auto_columns": null,
            "grid_auto_flow": null,
            "grid_auto_rows": null,
            "grid_column": null,
            "grid_gap": null,
            "grid_row": null,
            "grid_template_areas": null,
            "grid_template_columns": null,
            "grid_template_rows": null,
            "height": null,
            "justify_content": null,
            "justify_items": null,
            "left": null,
            "margin": null,
            "max_height": null,
            "max_width": null,
            "min_height": null,
            "min_width": null,
            "object_fit": null,
            "object_position": null,
            "order": null,
            "overflow": null,
            "overflow_x": null,
            "overflow_y": null,
            "padding": null,
            "right": null,
            "top": null,
            "visibility": null,
            "width": null
          }
        },
        "032306a2411f4a4a90f424758ab47fda": {
          "model_module": "@jupyter-widgets/controls",
          "model_name": "ProgressStyleModel",
          "model_module_version": "1.5.0",
          "state": {
            "_model_module": "@jupyter-widgets/controls",
            "_model_module_version": "1.5.0",
            "_model_name": "ProgressStyleModel",
            "_view_count": null,
            "_view_module": "@jupyter-widgets/base",
            "_view_module_version": "1.2.0",
            "_view_name": "StyleView",
            "bar_color": null,
            "description_width": ""
          }
        },
        "be49486e5dc345ad847b0fe4d8f64923": {
          "model_module": "@jupyter-widgets/base",
          "model_name": "LayoutModel",
          "model_module_version": "1.2.0",
          "state": {
            "_model_module": "@jupyter-widgets/base",
            "_model_module_version": "1.2.0",
            "_model_name": "LayoutModel",
            "_view_count": null,
            "_view_module": "@jupyter-widgets/base",
            "_view_module_version": "1.2.0",
            "_view_name": "LayoutView",
            "align_content": null,
            "align_items": null,
            "align_self": null,
            "border": null,
            "bottom": null,
            "display": null,
            "flex": null,
            "flex_flow": null,
            "grid_area": null,
            "grid_auto_columns": null,
            "grid_auto_flow": null,
            "grid_auto_rows": null,
            "grid_column": null,
            "grid_gap": null,
            "grid_row": null,
            "grid_template_areas": null,
            "grid_template_columns": null,
            "grid_template_rows": null,
            "height": null,
            "justify_content": null,
            "justify_items": null,
            "left": null,
            "margin": null,
            "max_height": null,
            "max_width": null,
            "min_height": null,
            "min_width": null,
            "object_fit": null,
            "object_position": null,
            "order": null,
            "overflow": null,
            "overflow_x": null,
            "overflow_y": null,
            "padding": null,
            "right": null,
            "top": null,
            "visibility": null,
            "width": null
          }
        },
        "eed664bc4a824889aec181337d0fb51b": {
          "model_module": "@jupyter-widgets/controls",
          "model_name": "DescriptionStyleModel",
          "model_module_version": "1.5.0",
          "state": {
            "_model_module": "@jupyter-widgets/controls",
            "_model_module_version": "1.5.0",
            "_model_name": "DescriptionStyleModel",
            "_view_count": null,
            "_view_module": "@jupyter-widgets/base",
            "_view_module_version": "1.2.0",
            "_view_name": "StyleView",
            "description_width": ""
          }
        }
      }
    }
  },
  "cells": [
    {
      "cell_type": "markdown",
      "metadata": {
        "id": "view-in-github",
        "colab_type": "text"
      },
      "source": [
        "<a href=\"https://colab.research.google.com/github/lisabecker/nlp-fundamentals/blob/main/0404_transformers.ipynb\" target=\"_parent\"><img src=\"https://colab.research.google.com/assets/colab-badge.svg\" alt=\"Open In Colab\"/></a>"
      ]
    },
    {
      "cell_type": "markdown",
      "source": [
        "# 👍 or 👎? Classifying Movie Reviews with Transformers\n",
        "\n",
        "In this exercise, we will train a transformer model `distilbert` using 🤗 Hugging Face on the [IMDB movie review dataset](https://huggingface.co/datasets/imdb) to classify if a review about a given movie is either positive or negative. In the end, we shall try feeding the trained model with our own reviews about recent movies to check if it is able to classify them according to our general sentiment about the movie."
      ],
      "metadata": {
        "id": "8AyCo8sqewqG"
      }
    },
    {
      "cell_type": "markdown",
      "source": [
        "##1. Set up the environment"
      ],
      "metadata": {
        "id": "NmB3KBRUGUrA"
      }
    },
    {
      "cell_type": "code",
      "source": [
        "!pip install --q transformers==4.36.2 datasets==2.16.1 torch==2.1.2"
      ],
      "metadata": {
        "id": "ylp08rjzGToS"
      },
      "execution_count": null,
      "outputs": []
    },
    {
      "cell_type": "markdown",
      "source": [
        "##2. Load the dataset\n",
        "\n",
        "Huggingface 🤗 provides a datasets library which not only contains most of the  popular open-source NLP datasets, but also allows users to upload their own and share it with the world. For this exercise, we will use the `IMDB Movie Reviews` dataset which is popular for sentiment analysis tasks."
      ],
      "metadata": {
        "id": "qI2E0deXHQhs"
      }
    },
    {
      "cell_type": "code",
      "source": [
        "from datasets import load_dataset\n",
        "\n",
        "dataset = load_dataset(\"imdb\")"
      ],
      "metadata": {
        "id": "l4Dyp4UdHPsF"
      },
      "execution_count": 1,
      "outputs": []
    },
    {
      "cell_type": "markdown",
      "source": [
        "##3. Inspect the dataset\n",
        "\n",
        "Let us inspect the downloaded the dataset.  We see that the dataset contains two fields: `text` and `label`. The `text` field contains the review and the `label` field contains the classification of the review as positive or negative. `label` can contain one of two values `0` and `1`. The former indicates a *negative* review while the latter, *positive*."
      ],
      "metadata": {
        "id": "Jhi09IkuIntu"
      }
    },
    {
      "cell_type": "code",
      "source": [
        "dataset[\"train\"]"
      ],
      "metadata": {
        "colab": {
          "base_uri": "https://localhost:8080/"
        },
        "id": "vtZ7km1hHnN5",
        "outputId": "e942c647-03e6-4a50-cb3f-52181d8fb730"
      },
      "execution_count": null,
      "outputs": [
        {
          "output_type": "execute_result",
          "data": {
            "text/plain": [
              "Dataset({\n",
              "    features: ['text', 'label'],\n",
              "    num_rows: 25000\n",
              "})"
            ]
          },
          "metadata": {},
          "execution_count": 3
        }
      ]
    },
    {
      "cell_type": "code",
      "source": [
        "# Some examples\n",
        "dataset[\"train\"][0:2]"
      ],
      "metadata": {
        "colab": {
          "base_uri": "https://localhost:8080/"
        },
        "id": "IWPEXVlBIqVI",
        "outputId": "fd7b4d89-c58f-4d5e-c9d0-be0ec7361f28"
      },
      "execution_count": null,
      "outputs": [
        {
          "output_type": "execute_result",
          "data": {
            "text/plain": [
              "{'text': ['I rented I AM CURIOUS-YELLOW from my video store because of all the controversy that surrounded it when it was first released in 1967. I also heard that at first it was seized by U.S. customs if it ever tried to enter this country, therefore being a fan of films considered \"controversial\" I really had to see this for myself.<br /><br />The plot is centered around a young Swedish drama student named Lena who wants to learn everything she can about life. In particular she wants to focus her attentions to making some sort of documentary on what the average Swede thought about certain political issues such as the Vietnam War and race issues in the United States. In between asking politicians and ordinary denizens of Stockholm about their opinions on politics, she has sex with her drama teacher, classmates, and married men.<br /><br />What kills me about I AM CURIOUS-YELLOW is that 40 years ago, this was considered pornographic. Really, the sex and nudity scenes are few and far between, even then it\\'s not shot like some cheaply made porno. While my countrymen mind find it shocking, in reality sex and nudity are a major staple in Swedish cinema. Even Ingmar Bergman, arguably their answer to good old boy John Ford, had sex scenes in his films.<br /><br />I do commend the filmmakers for the fact that any sex shown in the film is shown for artistic purposes rather than just to shock people and make money to be shown in pornographic theaters in America. I AM CURIOUS-YELLOW is a good film for anyone wanting to study the meat and potatoes (no pun intended) of Swedish cinema. But really, this film doesn\\'t have much of a plot.',\n",
              "  '\"I Am Curious: Yellow\" is a risible and pretentious steaming pile. It doesn\\'t matter what one\\'s political views are because this film can hardly be taken seriously on any level. As for the claim that frontal male nudity is an automatic NC-17, that isn\\'t true. I\\'ve seen R-rated films with male nudity. Granted, they only offer some fleeting views, but where are the R-rated films with gaping vulvas and flapping labia? Nowhere, because they don\\'t exist. The same goes for those crappy cable shows: schlongs swinging in the breeze but not a clitoris in sight. And those pretentious indie movies like The Brown Bunny, in which we\\'re treated to the site of Vincent Gallo\\'s throbbing johnson, but not a trace of pink visible on Chloe Sevigny. Before crying (or implying) \"double-standard\" in matters of nudity, the mentally obtuse should take into account one unavoidably obvious anatomical difference between men and women: there are no genitals on display when actresses appears nude, and the same cannot be said for a man. In fact, you generally won\\'t see female genitals in an American film in anything short of porn or explicit erotica. This alleged double-standard is less a double standard than an admittedly depressing ability to come to terms culturally with the insides of women\\'s bodies.'],\n",
              " 'label': [0, 0]}"
            ]
          },
          "metadata": {},
          "execution_count": 4
        }
      ]
    },
    {
      "cell_type": "markdown",
      "source": [
        "##4. Process the dataset\n",
        "\n",
        "Transformers generally deal with tokens and not raw characters. Hence, to train a model, we must setup utility functions to tokenize the given text. A tokenizer tokenizes the given text."
      ],
      "metadata": {
        "id": "JyTN1ZQDfE5n"
      }
    },
    {
      "cell_type": "code",
      "source": [
        "from transformers import AutoTokenizer, AutoModelForSequenceClassification\n",
        "\n",
        "tokenizer = AutoTokenizer.from_pretrained(\"distilbert-base-uncased\")\n",
        "\n",
        "def tokenize_function(samples):\n",
        "    return tokenizer(samples[\"text\"], padding=\"max_length\", truncation=True, return_tensors='pt')\n",
        "\n",
        "# This step will take a few minutes\n",
        "tokenized_datasets = dataset.map(tokenize_function, batched=True, remove_columns=[\"text\"])\n"
      ],
      "metadata": {
        "colab": {
          "base_uri": "https://localhost:8080/",
          "height": 49,
          "referenced_widgets": [
            "1cdf837e0e1d4ce4a4ba63e3f97ba134",
            "9daef12f5ed64ad7860fd78ca3782b54",
            "59234e9d33eb44db9e2ef2fbabd69518",
            "deecee5070fa40daa2e3e927213cbfc8",
            "3e42a5441b034550a3bbe0412818f2bc",
            "864965d1f13145858b680ada7546cd17",
            "20e3fc430c8c4d1a93ffca3e67c42d5b",
            "7d137f61b1ed471498796c15ca9799a3",
            "fb9955e384144798a8f5de04304e9d9b",
            "87d15f558f3c4b04b5fd0f9fb57ce181",
            "ce9e69ff408a42b59aef6cf19724eb02"
          ]
        },
        "id": "CUQrZDQkcUBq",
        "outputId": "9ea9a430-1844-4da6-d851-497b0c35a930"
      },
      "execution_count": null,
      "outputs": [
        {
          "output_type": "display_data",
          "data": {
            "text/plain": [
              "Map:   0%|          | 0/25000 [00:00<?, ? examples/s]"
            ],
            "application/vnd.jupyter.widget-view+json": {
              "version_major": 2,
              "version_minor": 0,
              "model_id": "1cdf837e0e1d4ce4a4ba63e3f97ba134"
            }
          },
          "metadata": {}
        }
      ]
    },
    {
      "cell_type": "code",
      "source": [
        "tokenized_datasets.set_format(type=\"torch\", columns=[\"input_ids\", \"attention_mask\", \"label\"])"
      ],
      "metadata": {
        "id": "3JNO6UIi0vEN"
      },
      "execution_count": null,
      "outputs": []
    },
    {
      "cell_type": "code",
      "source": [
        "tokenized_datasets"
      ],
      "metadata": {
        "colab": {
          "base_uri": "https://localhost:8080/"
        },
        "id": "GPV7hkjczR5L",
        "outputId": "3df35ea0-efdd-4212-e9f0-acecc2b049c2"
      },
      "execution_count": null,
      "outputs": [
        {
          "output_type": "execute_result",
          "data": {
            "text/plain": [
              "DatasetDict({\n",
              "    train: Dataset({\n",
              "        features: ['label', 'input_ids', 'attention_mask'],\n",
              "        num_rows: 25000\n",
              "    })\n",
              "    test: Dataset({\n",
              "        features: ['label', 'input_ids', 'attention_mask'],\n",
              "        num_rows: 25000\n",
              "    })\n",
              "    unsupervised: Dataset({\n",
              "        features: ['label', 'input_ids', 'attention_mask'],\n",
              "        num_rows: 50000\n",
              "    })\n",
              "})"
            ]
          },
          "metadata": {},
          "execution_count": 7
        }
      ]
    },
    {
      "cell_type": "markdown",
      "source": [
        "##5. Create data loaders\n",
        "\n",
        "Data loaders are used to create an iterator which can be used to load data in batches during the training loop. They can also perform various other tasks such as type conversion, collation etc."
      ],
      "metadata": {
        "id": "H6j-S4q2irTJ"
      }
    },
    {
      "cell_type": "code",
      "source": [
        "import torch\n",
        "from torch.utils.data import DataLoader\n",
        "\n",
        "train_dataset = tokenized_datasets[\"train\"].shuffle(seed=42).select(range(10000)) # smaller sample for quick training\n",
        "test_dataset = tokenized_datasets[\"test\"].shuffle(seed=42).select(range(1000))\n",
        "\n",
        "\n",
        "train_dataloader = DataLoader(train_dataset, shuffle=True, batch_size=16, num_workers=2)\n",
        "eval_dataloader = DataLoader(test_dataset, batch_size=16, num_workers=2)"
      ],
      "metadata": {
        "id": "22acadZlfsP0"
      },
      "execution_count": null,
      "outputs": []
    },
    {
      "cell_type": "markdown",
      "source": [
        "##6. Load pretrained model and set training parameters\n",
        "\n",
        "We use the pretrained `distilbert-base-uncased` model which is a smaller, faster version of BERT, a popular transformer model.\n",
        "\n",
        "**AutoModelForSequenceClassification** customizes this model for the task of sequence classification (here, classifying movie reviews into positive or negative).\n",
        "\n",
        "**Optimizer Setup:** AdamW is an optimization algorithm used to minimize the loss during training. The learning rate lr=5e-5 is set, which determines how much the model updates its weights in response to the estimated error each time the model weights are updated.\n",
        "\n",
        "**Training Parameters:** We're setting the number of epochs (num_epochs) as 3, meaning the entire training dataset will be passed through the model three times. num_training_steps is the total number of training steps the model will undergo, calculated by multiplying the number of epochs by the number of batches in the training data.\n",
        "\n",
        "**Learning Rate Scheduler:** The scheduler adjusts the learning rate over the course of training, here using a linear schedule with no warmup steps."
      ],
      "metadata": {
        "id": "1ZI-7ez3mFfY"
      }
    },
    {
      "cell_type": "code",
      "source": [
        "from transformers import AdamW\n",
        "from transformers import get_scheduler\n",
        "\n",
        "model = AutoModelForSequenceClassification.from_pretrained(\"distilbert-base-uncased\", num_labels=2)\n",
        "optimizer = AdamW(model.parameters(), lr=5e-5)\n",
        "num_epochs = 3\n",
        "num_training_steps = num_epochs * len(train_dataloader)\n",
        "\n",
        "\n",
        "lr_scheduler = get_scheduler(\n",
        "    \"linear\",\n",
        "    optimizer=optimizer,\n",
        "    num_warmup_steps=0,\n",
        "    num_training_steps=num_training_steps\n",
        ")"
      ],
      "metadata": {
        "colab": {
          "base_uri": "https://localhost:8080/"
        },
        "id": "Zej0YHoPl_R4",
        "outputId": "2ea31690-80a9-4876-cc80-58d99c8a81bd"
      },
      "execution_count": null,
      "outputs": [
        {
          "output_type": "stream",
          "name": "stderr",
          "text": [
            "Some weights of DistilBertForSequenceClassification were not initialized from the model checkpoint at distilbert-base-uncased and are newly initialized: ['pre_classifier.bias', 'classifier.weight', 'classifier.bias', 'pre_classifier.weight']\n",
            "You should probably TRAIN this model on a down-stream task to be able to use it for predictions and inference.\n",
            "/usr/local/lib/python3.10/dist-packages/transformers/optimization.py:411: FutureWarning: This implementation of AdamW is deprecated and will be removed in a future version. Use the PyTorch implementation torch.optim.AdamW instead, or set `no_deprecation_warning=True` to disable this warning\n",
            "  warnings.warn(\n"
          ]
        }
      ]
    },
    {
      "cell_type": "markdown",
      "source": [
        "##7. Run Training loop\n",
        "**Setting Up the Device:** The model training will be performed on a GPU if available (faster) or on a CPU if a GPU is not available.\n",
        "\n",
        "**Training Process:** For each epoch, the training data is passed through the model in batches. The model's output includes the loss, which measures the difference between the predicted and actual values.\n",
        "\n",
        "**Backpropagation and Optimization:** The loss.backward() call performs backpropagation to calculate gradients, and optimizer.step() updates the model's weights based on these gradients. The learning rate is updated at each step using lr_scheduler.step(), and optimizer.zero_grad() clears old gradients, ensuring that only the most recent gradients are used in the next step.\n",
        "\n",
        "**Progress Tracking:** A progress bar is displayed using tqdm, showing the number of steps completed out of the total."
      ],
      "metadata": {
        "id": "dVHDqtVLnlVg"
      }
    },
    {
      "cell_type": "code",
      "source": [
        "from tqdm.auto import tqdm\n",
        "\n",
        "# Use GPU if available - you can change it under \"Runtime\" -> \"Change runtime type\"\n",
        "device = torch.device(\"cuda\") if torch.cuda.is_available() else torch.device(\"cpu\")\n",
        "model.to(device)\n",
        "\n",
        "progress_bar = tqdm(range(num_training_steps))\n",
        "\n",
        "# Number of steps after which to log training stats\n",
        "log_steps = 50\n",
        "\n",
        "training_step_count = 0\n",
        "model.train()\n",
        "for epoch in range(num_epochs):\n",
        "    for batch in train_dataloader:\n",
        "        batch = {k: v.to(device) for k, v in batch.items()}\n",
        "        outputs = model(input_ids=batch[\"input_ids\"], attention_mask=batch[\"attention_mask\"], labels=batch[\"label\"])\n",
        "        loss = outputs.loss\n",
        "        loss.backward()\n",
        "\n",
        "        optimizer.step()\n",
        "        lr_scheduler.step()\n",
        "        optimizer.zero_grad()\n",
        "        progress_bar.update(1)\n",
        "\n",
        "        training_step_count += 1\n",
        "        if training_step_count % log_steps == 0:\n",
        "            print(f\"Training loss at step {training_step_count}: {loss.item()}\")\n",
        "\n",
        "\n",
        "\n",
        "\n"
      ],
      "metadata": {
        "colab": {
          "base_uri": "https://localhost:8080/",
          "height": 706,
          "referenced_widgets": [
            "f27166d09d2147479a167bb7099ef060",
            "1ba54748805842b4a1c44d8c7628fa81",
            "45d5ed5b387746158145aa49f7cae5b0",
            "c84ce4359f704701b74e2a37887acb4e",
            "f82878df9a154cc3b51869448983da45",
            "9f271d9ef7a448e9803a69ccb32dc05c",
            "40bfe81d9e204ae8a0cbab222eada577",
            "950fcdd32b414c5cb43240d2e299c437",
            "032306a2411f4a4a90f424758ab47fda",
            "be49486e5dc345ad847b0fe4d8f64923",
            "eed664bc4a824889aec181337d0fb51b"
          ]
        },
        "id": "76NQqsx-nguO",
        "outputId": "60a6c1f1-6605-4732-f4ed-29385c341613"
      },
      "execution_count": null,
      "outputs": [
        {
          "data": {
            "application/vnd.jupyter.widget-view+json": {
              "model_id": "f27166d09d2147479a167bb7099ef060",
              "version_major": 2,
              "version_minor": 0
            },
            "text/plain": [
              "  0%|          | 0/1875 [00:00<?, ?it/s]"
            ]
          },
          "metadata": {},
          "output_type": "display_data"
        },
        {
          "output_type": "stream",
          "name": "stdout",
          "text": [
            "Training loss at step 50: 0.3360562026500702\n",
            "Training loss at step 100: 0.3613983392715454\n",
            "Training loss at step 150: 0.19602687656879425\n",
            "Training loss at step 200: 0.1519453078508377\n",
            "Training loss at step 250: 0.23754222691059113\n",
            "Training loss at step 300: 0.19000516831874847\n",
            "Training loss at step 350: 0.5081885457038879\n",
            "Training loss at step 400: 0.18347708880901337\n",
            "Training loss at step 450: 0.45937660336494446\n",
            "Training loss at step 500: 0.5301209092140198\n",
            "Training loss at step 550: 0.20125079154968262\n",
            "Training loss at step 600: 0.131150022149086\n",
            "Training loss at step 650: 0.35261279344558716\n",
            "Training loss at step 700: 0.1822538673877716\n",
            "Training loss at step 750: 0.2403530329465866\n",
            "Training loss at step 800: 0.31179091334342957\n",
            "Training loss at step 850: 0.31338393688201904\n",
            "Training loss at step 900: 0.32099589705467224\n",
            "Training loss at step 950: 0.12113271653652191\n",
            "Training loss at step 1000: 0.21208441257476807\n",
            "Training loss at step 1050: 0.08348963409662247\n",
            "Training loss at step 1100: 0.03817811980843544\n",
            "Training loss at step 1150: 0.05837896466255188\n",
            "Training loss at step 1200: 0.023521674796938896\n",
            "Training loss at step 1250: 0.017141953110694885\n",
            "Training loss at step 1300: 0.010057569481432438\n",
            "Training loss at step 1350: 0.0029700123704969883\n",
            "Training loss at step 1400: 0.0051083434373140335\n",
            "Training loss at step 1450: 0.37385809421539307\n",
            "Training loss at step 1500: 0.039170168340206146\n",
            "Training loss at step 1550: 0.0030297713819891214\n",
            "Training loss at step 1600: 0.03194226697087288\n",
            "Training loss at step 1650: 0.003512841882184148\n",
            "Training loss at step 1700: 0.003018328920006752\n",
            "Training loss at step 1750: 0.006273800972849131\n",
            "Training loss at step 1800: 0.002116302028298378\n",
            "Training loss at step 1850: 0.003739151870831847\n"
          ]
        }
      ]
    },
    {
      "cell_type": "code",
      "source": [
        "model.save_pretrained(\"distilbert-uncased-imdb-finetune\", from_pt=True)"
      ],
      "metadata": {
        "id": "spzME2zc4hzD"
      },
      "execution_count": null,
      "outputs": []
    },
    {
      "cell_type": "markdown",
      "source": [
        "##8. Evaluate model on test set\n",
        "\n",
        "**Model Evaluation Mode:** model.eval() is used to set the model to evaluation mode, disabling specific layers and behaviors like dropout layers used in training.\n",
        "\n",
        "**Generating Predictions:** The model generates predictions for the test set. torch.no_grad() tells PyTorch not to calculate gradients, which is necessary during evaluation.\n",
        "\n",
        "**Calculating Accuracy:** Predictions are compared with actual labels (references) to calculate the model's accuracy. This is the proportion of predictions the model got right, giving a straightforward metric to evaluate the model's performance."
      ],
      "metadata": {
        "id": "gGGMOVZh5QTE"
      }
    },
    {
      "cell_type": "code",
      "source": [
        "import numpy as np\n",
        "\n",
        "model.eval()\n",
        "predictions = []\n",
        "references = []\n",
        "\n",
        "for batch in eval_dataloader:\n",
        "    batch = {k: v.to(device) for k, v in batch.items()}\n",
        "    with torch.no_grad():\n",
        "        outputs = model(input_ids=batch[\"input_ids\"], attention_mask=batch[\"attention_mask\"], labels=batch[\"label\"])\n",
        "\n",
        "    logits = outputs.logits\n",
        "    predictions.extend(torch.argmax(logits, dim=-1).tolist())\n",
        "    references.extend(batch[\"label\"].tolist())\n",
        "\n",
        "accuracy = np.sum(np.array(predictions) == np.array(references)) / len(predictions)\n",
        "print(f\"Accuracy: {accuracy:.4f}\")"
      ],
      "metadata": {
        "colab": {
          "base_uri": "https://localhost:8080/"
        },
        "id": "NZmj5v2C2epy",
        "outputId": "ff784932-b40e-4e03-bfc4-188c4981d6dd"
      },
      "execution_count": null,
      "outputs": [
        {
          "output_type": "stream",
          "name": "stdout",
          "text": [
            "Accuracy: 0.9180\n"
          ]
        }
      ]
    },
    {
      "cell_type": "code",
      "source": [],
      "metadata": {
        "id": "e0i9Ra1x9vnF"
      },
      "execution_count": null,
      "outputs": []
    }
  ]
}